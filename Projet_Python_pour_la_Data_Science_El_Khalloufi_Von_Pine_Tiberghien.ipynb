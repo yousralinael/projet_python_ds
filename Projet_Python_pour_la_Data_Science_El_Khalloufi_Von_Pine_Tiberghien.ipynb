{
  "nbformat": 4,
  "nbformat_minor": 0,
  "metadata": {
    "colab": {
      "provenance": []
    },
    "kernelspec": {
      "name": "python3",
      "display_name": "Python 3"
    },
    "language_info": {
      "name": "python"
    }
  },
  "cells": [
    {
      "cell_type": "markdown",
      "source": [
        "# Prédire le prix d'un panier étudiant moyen"
      ],
      "metadata": {
        "id": "-96ZihZ__K88"
      }
    },
    {
      "cell_type": "markdown",
      "source": [
        "Notre but au cours de ce projet a été de trouver, de visualiser des données afin de créer un modèle qui nous permettrait de prédire le prix du panier alimentaire d'un étudiant moyen selon différentes conjonctures économiques et de production. Notre travail s'est axé vers une démarche de prédiction mathématique simple et ne se rique pas à faire des interprétations économétriques.\n",
        "\n",
        "**Problématique**\n",
        "\n",
        "Comment peut-on expliquer l'évolution du prix d'un panier d'étudiant type? Est-ce qu'on peut prédire son prix?"
      ],
      "metadata": {
        "id": "swvVX4naE6Xr"
      }
    },
    {
      "cell_type": "markdown",
      "source": [
        "Les notebooks importants dans notre projet sont les suivants: celui-ci qui est le principal sur lequel nous avons travaillé sur la visualisation des données ainsi que sur le modèle de régression linéaire. Le notebook data collection qui regroupe notre travail sur l'extraction de données via une API et le notebook récupération de données qui continue le travail du précédent en raffinant notre base de données pour la rendre prête à l'utilisation."
      ],
      "metadata": {
        "id": "uZSroeP9D4nZ"
      }
    },
    {
      "cell_type": "code",
      "source": [
        "import pandas as pd\n",
        "import numpy as np\n",
        "import matplotlib.pyplot as plt\n",
        "import seaborn as sns\n"
      ],
      "metadata": {
        "id": "9g2BbAUlqKok"
      },
      "execution_count": 29,
      "outputs": []
    },
    {
      "cell_type": "markdown",
      "source": [
        "Nous importons la base de données que nous avons préparé dans le notebook 'récupération des données'"
      ],
      "metadata": {
        "id": "7z3zNLczyw3D"
      }
    },
    {
      "cell_type": "code",
      "source": [
        "url='https://raw.githubusercontent.com/yousralinael/projet_python_ds/main/sous_donn%C3%A9es_finales.csv'\n",
        "dff_=pd.read_csv(url,sep=\",\")"
      ],
      "metadata": {
        "id": "gFryIJgwyv-E"
      },
      "execution_count": 30,
      "outputs": []
    },
    {
      "cell_type": "markdown",
      "source": [
        "# Visualisation"
      ],
      "metadata": {
        "id": "9VwoDFK3B0_J"
      }
    },
    {
      "cell_type": "markdown",
      "source": [
        "Avant de faire des visualisations, il sied de réaliser quelques statistiques descriptives."
      ],
      "metadata": {
        "id": "hZFQ4ga-EuFo"
      }
    },
    {
      "cell_type": "code",
      "source": [
        "dff_.describe()"
      ],
      "metadata": {
        "id": "XLiTdOjqB6pS",
        "colab": {
          "base_uri": "https://localhost:8080/",
          "height": 300
        },
        "outputId": "83976e55-d046-487a-98cb-c6c11b3cf906"
      },
      "execution_count": null,
      "outputs": [
        {
          "output_type": "execute_result",
          "data": {
            "text/plain": [
              "        Panier Mensuel Moyen          IPC         IPP  Prod céréales  \\\n",
              "count              216.000000  216.000000  216.000000     216.000000   \n",
              "mean                95.961111   94.667361   97.575463     105.166675   \n",
              "std                  7.297724    6.878539    5.907386      22.141417   \n",
              "min                 79.920000   83.090000   85.600000      68.339471   \n",
              "25%                 90.252500   87.517500   94.275000      91.794167   \n",
              "50%                 98.285000   94.750000   98.950000      99.666143   \n",
              "75%                101.942500  100.197500  102.900000     119.705919   \n",
              "max                106.760000  107.150000  105.300000     163.631142   \n",
              "\n",
              "       Prod graines(huile)  Prod légumes  Prod fruits  FR_prod_bovine  \\\n",
              "count           216.000000    216.000000   216.000000      216.000000   \n",
              "mean            109.650825     99.668120   110.293478      125.381759   \n",
              "std              42.618921     30.353036    19.686301        8.879517   \n",
              "min              58.618332     67.725065    80.075248      106.340000   \n",
              "25%              84.430381     77.810399    98.983364      118.962500   \n",
              "50%              96.646667     87.650977   103.850000      124.550000   \n",
              "75%             117.625232    107.220833   115.453738      131.355000   \n",
              "max             218.905330    213.486758   168.462673      149.340000   \n",
              "\n",
              "       FR_prod_chicken  \n",
              "count       216.000000  \n",
              "mean      68441.840509  \n",
              "std        8390.569034  \n",
              "min       45489.000000  \n",
              "25%       62492.840000  \n",
              "50%       67541.380000  \n",
              "75%       74074.677500  \n",
              "max       89561.400000  "
            ],
            "text/html": [
              "\n",
              "  <div id=\"df-a51f6233-3163-4fa4-933f-cc42905241e8\">\n",
              "    <div class=\"colab-df-container\">\n",
              "      <div>\n",
              "<style scoped>\n",
              "    .dataframe tbody tr th:only-of-type {\n",
              "        vertical-align: middle;\n",
              "    }\n",
              "\n",
              "    .dataframe tbody tr th {\n",
              "        vertical-align: top;\n",
              "    }\n",
              "\n",
              "    .dataframe thead th {\n",
              "        text-align: right;\n",
              "    }\n",
              "</style>\n",
              "<table border=\"1\" class=\"dataframe\">\n",
              "  <thead>\n",
              "    <tr style=\"text-align: right;\">\n",
              "      <th></th>\n",
              "      <th>Panier Mensuel Moyen</th>\n",
              "      <th>IPC</th>\n",
              "      <th>IPP</th>\n",
              "      <th>Prod céréales</th>\n",
              "      <th>Prod graines(huile)</th>\n",
              "      <th>Prod légumes</th>\n",
              "      <th>Prod fruits</th>\n",
              "      <th>FR_prod_bovine</th>\n",
              "      <th>FR_prod_chicken</th>\n",
              "    </tr>\n",
              "  </thead>\n",
              "  <tbody>\n",
              "    <tr>\n",
              "      <th>count</th>\n",
              "      <td>216.000000</td>\n",
              "      <td>216.000000</td>\n",
              "      <td>216.000000</td>\n",
              "      <td>216.000000</td>\n",
              "      <td>216.000000</td>\n",
              "      <td>216.000000</td>\n",
              "      <td>216.000000</td>\n",
              "      <td>216.000000</td>\n",
              "      <td>216.000000</td>\n",
              "    </tr>\n",
              "    <tr>\n",
              "      <th>mean</th>\n",
              "      <td>95.961111</td>\n",
              "      <td>94.667361</td>\n",
              "      <td>97.575463</td>\n",
              "      <td>105.166675</td>\n",
              "      <td>109.650825</td>\n",
              "      <td>99.668120</td>\n",
              "      <td>110.293478</td>\n",
              "      <td>125.381759</td>\n",
              "      <td>68441.840509</td>\n",
              "    </tr>\n",
              "    <tr>\n",
              "      <th>std</th>\n",
              "      <td>7.297724</td>\n",
              "      <td>6.878539</td>\n",
              "      <td>5.907386</td>\n",
              "      <td>22.141417</td>\n",
              "      <td>42.618921</td>\n",
              "      <td>30.353036</td>\n",
              "      <td>19.686301</td>\n",
              "      <td>8.879517</td>\n",
              "      <td>8390.569034</td>\n",
              "    </tr>\n",
              "    <tr>\n",
              "      <th>min</th>\n",
              "      <td>79.920000</td>\n",
              "      <td>83.090000</td>\n",
              "      <td>85.600000</td>\n",
              "      <td>68.339471</td>\n",
              "      <td>58.618332</td>\n",
              "      <td>67.725065</td>\n",
              "      <td>80.075248</td>\n",
              "      <td>106.340000</td>\n",
              "      <td>45489.000000</td>\n",
              "    </tr>\n",
              "    <tr>\n",
              "      <th>25%</th>\n",
              "      <td>90.252500</td>\n",
              "      <td>87.517500</td>\n",
              "      <td>94.275000</td>\n",
              "      <td>91.794167</td>\n",
              "      <td>84.430381</td>\n",
              "      <td>77.810399</td>\n",
              "      <td>98.983364</td>\n",
              "      <td>118.962500</td>\n",
              "      <td>62492.840000</td>\n",
              "    </tr>\n",
              "    <tr>\n",
              "      <th>50%</th>\n",
              "      <td>98.285000</td>\n",
              "      <td>94.750000</td>\n",
              "      <td>98.950000</td>\n",
              "      <td>99.666143</td>\n",
              "      <td>96.646667</td>\n",
              "      <td>87.650977</td>\n",
              "      <td>103.850000</td>\n",
              "      <td>124.550000</td>\n",
              "      <td>67541.380000</td>\n",
              "    </tr>\n",
              "    <tr>\n",
              "      <th>75%</th>\n",
              "      <td>101.942500</td>\n",
              "      <td>100.197500</td>\n",
              "      <td>102.900000</td>\n",
              "      <td>119.705919</td>\n",
              "      <td>117.625232</td>\n",
              "      <td>107.220833</td>\n",
              "      <td>115.453738</td>\n",
              "      <td>131.355000</td>\n",
              "      <td>74074.677500</td>\n",
              "    </tr>\n",
              "    <tr>\n",
              "      <th>max</th>\n",
              "      <td>106.760000</td>\n",
              "      <td>107.150000</td>\n",
              "      <td>105.300000</td>\n",
              "      <td>163.631142</td>\n",
              "      <td>218.905330</td>\n",
              "      <td>213.486758</td>\n",
              "      <td>168.462673</td>\n",
              "      <td>149.340000</td>\n",
              "      <td>89561.400000</td>\n",
              "    </tr>\n",
              "  </tbody>\n",
              "</table>\n",
              "</div>\n",
              "      <button class=\"colab-df-convert\" onclick=\"convertToInteractive('df-a51f6233-3163-4fa4-933f-cc42905241e8')\"\n",
              "              title=\"Convert this dataframe to an interactive table.\"\n",
              "              style=\"display:none;\">\n",
              "        \n",
              "  <svg xmlns=\"http://www.w3.org/2000/svg\" height=\"24px\"viewBox=\"0 0 24 24\"\n",
              "       width=\"24px\">\n",
              "    <path d=\"M0 0h24v24H0V0z\" fill=\"none\"/>\n",
              "    <path d=\"M18.56 5.44l.94 2.06.94-2.06 2.06-.94-2.06-.94-.94-2.06-.94 2.06-2.06.94zm-11 1L8.5 8.5l.94-2.06 2.06-.94-2.06-.94L8.5 2.5l-.94 2.06-2.06.94zm10 10l.94 2.06.94-2.06 2.06-.94-2.06-.94-.94-2.06-.94 2.06-2.06.94z\"/><path d=\"M17.41 7.96l-1.37-1.37c-.4-.4-.92-.59-1.43-.59-.52 0-1.04.2-1.43.59L10.3 9.45l-7.72 7.72c-.78.78-.78 2.05 0 2.83L4 21.41c.39.39.9.59 1.41.59.51 0 1.02-.2 1.41-.59l7.78-7.78 2.81-2.81c.8-.78.8-2.07 0-2.86zM5.41 20L4 18.59l7.72-7.72 1.47 1.35L5.41 20z\"/>\n",
              "  </svg>\n",
              "      </button>\n",
              "      \n",
              "  <style>\n",
              "    .colab-df-container {\n",
              "      display:flex;\n",
              "      flex-wrap:wrap;\n",
              "      gap: 12px;\n",
              "    }\n",
              "\n",
              "    .colab-df-convert {\n",
              "      background-color: #E8F0FE;\n",
              "      border: none;\n",
              "      border-radius: 50%;\n",
              "      cursor: pointer;\n",
              "      display: none;\n",
              "      fill: #1967D2;\n",
              "      height: 32px;\n",
              "      padding: 0 0 0 0;\n",
              "      width: 32px;\n",
              "    }\n",
              "\n",
              "    .colab-df-convert:hover {\n",
              "      background-color: #E2EBFA;\n",
              "      box-shadow: 0px 1px 2px rgba(60, 64, 67, 0.3), 0px 1px 3px 1px rgba(60, 64, 67, 0.15);\n",
              "      fill: #174EA6;\n",
              "    }\n",
              "\n",
              "    [theme=dark] .colab-df-convert {\n",
              "      background-color: #3B4455;\n",
              "      fill: #D2E3FC;\n",
              "    }\n",
              "\n",
              "    [theme=dark] .colab-df-convert:hover {\n",
              "      background-color: #434B5C;\n",
              "      box-shadow: 0px 1px 3px 1px rgba(0, 0, 0, 0.15);\n",
              "      filter: drop-shadow(0px 1px 2px rgba(0, 0, 0, 0.3));\n",
              "      fill: #FFFFFF;\n",
              "    }\n",
              "  </style>\n",
              "\n",
              "      <script>\n",
              "        const buttonEl =\n",
              "          document.querySelector('#df-a51f6233-3163-4fa4-933f-cc42905241e8 button.colab-df-convert');\n",
              "        buttonEl.style.display =\n",
              "          google.colab.kernel.accessAllowed ? 'block' : 'none';\n",
              "\n",
              "        async function convertToInteractive(key) {\n",
              "          const element = document.querySelector('#df-a51f6233-3163-4fa4-933f-cc42905241e8');\n",
              "          const dataTable =\n",
              "            await google.colab.kernel.invokeFunction('convertToInteractive',\n",
              "                                                     [key], {});\n",
              "          if (!dataTable) return;\n",
              "\n",
              "          const docLinkHtml = 'Like what you see? Visit the ' +\n",
              "            '<a target=\"_blank\" href=https://colab.research.google.com/notebooks/data_table.ipynb>data table notebook</a>'\n",
              "            + ' to learn more about interactive tables.';\n",
              "          element.innerHTML = '';\n",
              "          dataTable['output_type'] = 'display_data';\n",
              "          await google.colab.output.renderOutput(dataTable, element);\n",
              "          const docLink = document.createElement('div');\n",
              "          docLink.innerHTML = docLinkHtml;\n",
              "          element.appendChild(docLink);\n",
              "        }\n",
              "      </script>\n",
              "    </div>\n",
              "  </div>\n",
              "  "
            ]
          },
          "metadata": {},
          "execution_count": 4
        }
      ]
    },
    {
      "cell_type": "markdown",
      "source": [
        "En se concentrant que sur le prix moyen du panier mensuel par exemple, on voit que la moyenne est de 95€ et que les valeurs passent de 83€ à 106€. Quelles sont alors les variables qui pourront expliquer cette évolution?"
      ],
      "metadata": {
        "id": "DTtt8ClyE-h-"
      }
    },
    {
      "cell_type": "code",
      "source": [
        "cor=dff_.corr()\n",
        "cor.shape"
      ],
      "metadata": {
        "id": "EudUKevIFS3e",
        "colab": {
          "base_uri": "https://localhost:8080/"
        },
        "outputId": "2cd9cd83-c631-48a5-8267-6fb44b4ffb3b"
      },
      "execution_count": null,
      "outputs": [
        {
          "output_type": "execute_result",
          "data": {
            "text/plain": [
              "(9, 9)"
            ]
          },
          "metadata": {},
          "execution_count": 3
        }
      ]
    },
    {
      "cell_type": "code",
      "source": [
        "plt.figure(figsize=(20,20))\n",
        "sns.heatmap(cor, cbar=True, square= True, fmt='.1f', annot=True, annot_kws={'size':15}, cmap='Blues')"
      ],
      "metadata": {
        "id": "4CQFgQe_FnZr",
        "colab": {
          "base_uri": "https://localhost:8080/",
          "height": 1000
        },
        "outputId": "485d96c8-fcb3-403f-b6ba-e04d069f1ed0"
      },
      "execution_count": null,
      "outputs": [
        {
          "output_type": "execute_result",
          "data": {
            "text/plain": [
              "<matplotlib.axes._subplots.AxesSubplot at 0x7fb4736a0fd0>"
            ]
          },
          "metadata": {},
          "execution_count": 4
        },
        {
          "output_type": "display_data",
          "data": {
            "text/plain": [
              "<Figure size 1440x1440 with 2 Axes>"
            ],
            "image/png": "[encoded data removed]"
          },
          "metadata": {
            "needs_background": "light"
          }
        }
      ]
    },
    {
      "cell_type": "markdown",
      "source": [
        "D'après la représentation de la matrice, on remarque qu'il y a une forte corrélation entre le prix du panier et les indices des prix à la production et à la consommation, ce qui semble a priori logique. Par contre, on remarque qu'il y a une corrélation négative  entre prix du panier et la production bovine ce qui n'est pas justifiable. Ainsi, il ne suffit pas de s'appuyer sur la corrélation pour analyser les rapports entre les variables.\n",
        "\n"
      ],
      "metadata": {
        "id": "Tcb0THfKMa7X"
      }
    },
    {
      "cell_type": "markdown",
      "source": [
        "On s'interesse maintenant à l'évolution de quelques variables."
      ],
      "metadata": {
        "id": "PzuD9AywPc74"
      }
    },
    {
      "cell_type": "code",
      "source": [
        "L=dff_.index\n",
        "L1=list(L[i] for i in range(216)) #taking the list of dates"
      ],
      "metadata": {
        "id": "mOlYstoMXAMy"
      },
      "execution_count": null,
      "outputs": []
    },
    {
      "cell_type": "code",
      "source": [
        "#Evolution du prix du panier mensuel\n",
        "import plotly.graph_objects as go\n",
        "fig = go.Figure()\n",
        "\n",
        "fig.add_trace(\n",
        "    go.Scatter(x=L1, y=list(dff_[' Panier Mensuel Moyen '])))\n",
        "\n",
        "fig.update_layout(\n",
        "    title_text=\"Evolution du prix du panier mensuel\"\n",
        ")\n",
        "\n",
        "fig.update_layout(\n",
        "    xaxis=dict(\n",
        "        rangeselector=dict(\n",
        "            buttons=list([\n",
        "                dict(count=1,\n",
        "                     label=\"1m\",\n",
        "                     step=\"month\",\n",
        "                     stepmode=\"backward\"),\n",
        "                dict(count=6,\n",
        "                     label=\"6m\",\n",
        "                     step=\"month\",\n",
        "                     stepmode=\"backward\"),\n",
        "                dict(count=1,\n",
        "                     label=\"YTD\",\n",
        "                     step=\"year\",\n",
        "                     stepmode=\"todate\"),\n",
        "                dict(count=1,\n",
        "                     label=\"1y\",\n",
        "                     step=\"year\",\n",
        "                     stepmode=\"backward\"),\n",
        "                dict(step=\"all\")\n",
        "            ])\n",
        "        ),\n",
        "        rangeslider=dict(\n",
        "            visible=True\n",
        "        ),\n",
        "        type=\"date\"\n",
        "    )\n",
        ")\n",
        "\n",
        "fig.show()"
      ],
      "metadata": {
        "id": "tnOAd_54VvEc",
        "colab": {
          "base_uri": "https://localhost:8080/",
          "height": 542
        },
        "outputId": "f6e99c14-9ac0-41b1-9480-25076e523be6"
      },
      "execution_count": null,
      "outputs": [
        {
          "output_type": "display_data",
          "data": {
            "text/html": [
              "<html>\n",
              "<head><meta charset=\"utf-8\" /></head>\n",
              "<body>\n",
              "    <div>            <script src=\"https://cdnjs.cloudflare.com/ajax/libs/mathjax/2.7.5/MathJax.js?config=TeX-AMS-MML_SVG\"></script><script type=\"text/javascript\">if (window.MathJax) {MathJax.Hub.Config({SVG: {font: \"STIX-Web\"}});}</script>                <script type=\"text/javascript\">window.PlotlyConfig = {MathJaxConfig: 'local'};</script>\n",
              "        <script src=\"https://cdn.plot.ly/plotly-2.8.3.min.js\"></script>                <div id=\"727a5af6-d1e8-49dd-832a-ea693868c5c2\" class=\"plotly-graph-div\" style=\"height:525px; width:100%;\"></div>            <script type=\"text/javascript\">                                    window.PLOTLYENV=window.PLOTLYENV || {};                                    if (document.getElementById(\"727a5af6-d1e8-49dd-832a-ea693868c5c2\")) {                    Plotly.newPlot(                        \"727a5af6-d1e8-49dd-832a-ea693868c5c2\",                        [{\"x\":[0,1,2,3,4,5,6,7,8,9,10,11,12,13,14,15,16,17,18,19,20,21,22,23,24,25,26,27,28,29,30,31,32,33,34,35,36,37,38,39,40,41,42,43,44,45,46,47,48,49,50,51,52,53,54,55,56,57,58,59,60,61,62,63,64,65,66,67,68,69,70,71,72,73,74,75,76,77,78,79,80,81,82,83,84,85,86,87,88,89,90,91,92,93,94,95,96,97,98,99,100,101,102,103,104,105,106,107,108,109,110,111,112,113,114,115,116,117,118,119,120,121,122,123,124,125,126,127,128,129,130,131,132,133,134,135,136,137,138,139,140,141,142,143,144,145,146,147,148,149,150,151,152,153,154,155,156,157,158,159,160,161,162,163,164,165,166,167,168,169,170,171,172,173,174,175,176,177,178,179,180,181,182,183,184,185,186,187,188,189,190,191,192,193,194,195,196,197,198,199,200,201,202,203,204,205,206,207,208,209,210,211,212,213,214,215],\"y\":[82.93,81.88,82.76,82.88,83.11,82.41,81.93,81.5,81.58,79.92,80.14,80.14,82.46,82.29,83.88,84.35,83.76,82.58,82.54,83.04,84.55,82.96,82.09,82.15,84.99,84.0,86.39,87.18,86.66,85.56,85.62,85.1,85.83,84.11,84.48,84.77,88.6,87.63,89.95,89.31,89.43,88.44,87.81,87.99,88.75,87.1,87.28,87.39,89.91,88.87,90.26,91.08,91.62,90.69,90.6,91.0,91.05,89.01,89.6,90.23,92.35,89.57,90.95,92.26,92.22,91.24,91.62,91.89,92.27,91.06,91.57,92.5,97.49,95.68,97.68,98.67,98.92,99.41,98.83,99.03,98.92,96.97,96.69,96.45,98.33,96.12,97.54,98.0,98.21,97.01,95.7,96.14,96.02,94.44,94.45,94.06,96.35,95.63,98.24,99.15,98.36,97.37,97.44,97.6,97.73,94.59,94.83,94.81,96.37,95.61,97.68,98.09,99.29,98.79,98.7,99.41,99.16,97.27,97.54,98.03,100.31,99.05,100.82,101.86,102.46,102.02,102.01,102.01,102.42,100.47,101.17,100.84,102.54,101.56,103.25,104.06,104.79,104.97,104.39,104.28,104.22,100.61,101.22,100.93,103.13,101.92,102.04,102.99,103.59,103.04,102.88,102.18,102.64,100.74,100.67,100.24,103.34,101.89,103.34,104.77,104.33,103.3,103.4,103.87,104.34,101.59,102.09,102.11,100.53,97.9,97.35,100.07,101.65,100.5,101.03,101.55,99.29,99.76,98.62,98.54,100.27,99.03,98.33,100.59,102.47,101.69,102.21,102.85,100.54,101.79,100.11,100.22,101.66,99.59,100.32,103.08,104.52,104.37,104.05,103.93,102.62,103.29,101.5,102.07,104.31,103.21,102.64,105.61,105.97,106.57,106.76,106.57,104.45,103.6,104.27,104.64],\"type\":\"scatter\"}],                        {\"template\":{\"data\":{\"bar\":[{\"error_x\":{\"color\":\"#2a3f5f\"},\"error_y\":{\"color\":\"#2a3f5f\"},\"marker\":{\"line\":{\"color\":\"#E5ECF6\",\"width\":0.5},\"pattern\":{\"fillmode\":\"overlay\",\"size\":10,\"solidity\":0.2}},\"type\":\"bar\"}],\"barpolar\":[{\"marker\":{\"line\":{\"color\":\"#E5ECF6\",\"width\":0.5},\"pattern\":{\"fillmode\":\"overlay\",\"size\":10,\"solidity\":0.2}},\"type\":\"barpolar\"}],\"carpet\":[{\"aaxis\":{\"endlinecolor\":\"#2a3f5f\",\"gridcolor\":\"white\",\"linecolor\":\"white\",\"minorgridcolor\":\"white\",\"startlinecolor\":\"#2a3f5f\"},\"baxis\":{\"endlinecolor\":\"#2a3f5f\",\"gridcolor\":\"white\",\"linecolor\":\"white\",\"minorgridcolor\":\"white\",\"startlinecolor\":\"#2a3f5f\"},\"type\":\"carpet\"}],\"choropleth\":[{\"colorbar\":{\"outlinewidth\":0,\"ticks\":\"\"},\"type\":\"choropleth\"}],\"contour\":[{\"colorbar\":{\"outlinewidth\":0,\"ticks\":\"\"},\"colorscale\":[[0.0,\"#0d0887\"],[0.1111111111111111,\"#46039f\"],[0.2222222222222222,\"#7201a8\"],[0.3333333333333333,\"#9c179e\"],[0.4444444444444444,\"#bd3786\"],[0.5555555555555556,\"#d8576b\"],[0.6666666666666666,\"#ed7953\"],[0.7777777777777778,\"#fb9f3a\"],[0.8888888888888888,\"#fdca26\"],[1.0,\"#f0f921\"]],\"type\":\"contour\"}],\"contourcarpet\":[{\"colorbar\":{\"outlinewidth\":0,\"ticks\":\"\"},\"type\":\"contourcarpet\"}],\"heatmap\":[{\"colorbar\":{\"outlinewidth\":0,\"ticks\":\"\"},\"colorscale\":[[0.0,\"#0d0887\"],[0.1111111111111111,\"#46039f\"],[0.2222222222222222,\"#7201a8\"],[0.3333333333333333,\"#9c179e\"],[0.4444444444444444,\"#bd3786\"],[0.5555555555555556,\"#d8576b\"],[0.6666666666666666,\"#ed7953\"],[0.7777777777777778,\"#fb9f3a\"],[0.8888888888888888,\"#fdca26\"],[1.0,\"#f0f921\"]],\"type\":\"heatmap\"}],\"heatmapgl\":[{\"colorbar\":{\"outlinewidth\":0,\"ticks\":\"\"},\"colorscale\":[[0.0,\"#0d0887\"],[0.1111111111111111,\"#46039f\"],[0.2222222222222222,\"#7201a8\"],[0.3333333333333333,\"#9c179e\"],[0.4444444444444444,\"#bd3786\"],[0.5555555555555556,\"#d8576b\"],[0.6666666666666666,\"#ed7953\"],[0.7777777777777778,\"#fb9f3a\"],[0.8888888888888888,\"#fdca26\"],[1.0,\"#f0f921\"]],\"type\":\"heatmapgl\"}],\"histogram\":[{\"marker\":{\"pattern\":{\"fillmode\":\"overlay\",\"size\":10,\"solidity\":0.2}},\"type\":\"histogram\"}],\"histogram2d\":[{\"colorbar\":{\"outlinewidth\":0,\"ticks\":\"\"},\"colorscale\":[[0.0,\"#0d0887\"],[0.1111111111111111,\"#46039f\"],[0.2222222222222222,\"#7201a8\"],[0.3333333333333333,\"#9c179e\"],[0.4444444444444444,\"#bd3786\"],[0.5555555555555556,\"#d8576b\"],[0.6666666666666666,\"#ed7953\"],[0.7777777777777778,\"#fb9f3a\"],[0.8888888888888888,\"#fdca26\"],[1.0,\"#f0f921\"]],\"type\":\"histogram2d\"}],\"histogram2dcontour\":[{\"colorbar\":{\"outlinewidth\":0,\"ticks\":\"\"},\"colorscale\":[[0.0,\"#0d0887\"],[0.1111111111111111,\"#46039f\"],[0.2222222222222222,\"#7201a8\"],[0.3333333333333333,\"#9c179e\"],[0.4444444444444444,\"#bd3786\"],[0.5555555555555556,\"#d8576b\"],[0.6666666666666666,\"#ed7953\"],[0.7777777777777778,\"#fb9f3a\"],[0.8888888888888888,\"#fdca26\"],[1.0,\"#f0f921\"]],\"type\":\"histogram2dcontour\"}],\"mesh3d\":[{\"colorbar\":{\"outlinewidth\":0,\"ticks\":\"\"},\"type\":\"mesh3d\"}],\"parcoords\":[{\"line\":{\"colorbar\":{\"outlinewidth\":0,\"ticks\":\"\"}},\"type\":\"parcoords\"}],\"pie\":[{\"automargin\":true,\"type\":\"pie\"}],\"scatter\":[{\"marker\":{\"colorbar\":{\"outlinewidth\":0,\"ticks\":\"\"}},\"type\":\"scatter\"}],\"scatter3d\":[{\"line\":{\"colorbar\":{\"outlinewidth\":0,\"ticks\":\"\"}},\"marker\":{\"colorbar\":{\"outlinewidth\":0,\"ticks\":\"\"}},\"type\":\"scatter3d\"}],\"scattercarpet\":[{\"marker\":{\"colorbar\":{\"outlinewidth\":0,\"ticks\":\"\"}},\"type\":\"scattercarpet\"}],\"scattergeo\":[{\"marker\":{\"colorbar\":{\"outlinewidth\":0,\"ticks\":\"\"}},\"type\":\"scattergeo\"}],\"scattergl\":[{\"marker\":{\"colorbar\":{\"outlinewidth\":0,\"ticks\":\"\"}},\"type\":\"scattergl\"}],\"scattermapbox\":[{\"marker\":{\"colorbar\":{\"outlinewidth\":0,\"ticks\":\"\"}},\"type\":\"scattermapbox\"}],\"scatterpolar\":[{\"marker\":{\"colorbar\":{\"outlinewidth\":0,\"ticks\":\"\"}},\"type\":\"scatterpolar\"}],\"scatterpolargl\":[{\"marker\":{\"colorbar\":{\"outlinewidth\":0,\"ticks\":\"\"}},\"type\":\"scatterpolargl\"}],\"scatterternary\":[{\"marker\":{\"colorbar\":{\"outlinewidth\":0,\"ticks\":\"\"}},\"type\":\"scatterternary\"}],\"surface\":[{\"colorbar\":{\"outlinewidth\":0,\"ticks\":\"\"},\"colorscale\":[[0.0,\"#0d0887\"],[0.1111111111111111,\"#46039f\"],[0.2222222222222222,\"#7201a8\"],[0.3333333333333333,\"#9c179e\"],[0.4444444444444444,\"#bd3786\"],[0.5555555555555556,\"#d8576b\"],[0.6666666666666666,\"#ed7953\"],[0.7777777777777778,\"#fb9f3a\"],[0.8888888888888888,\"#fdca26\"],[1.0,\"#f0f921\"]],\"type\":\"surface\"}],\"table\":[{\"cells\":{\"fill\":{\"color\":\"#EBF0F8\"},\"line\":{\"color\":\"white\"}},\"header\":{\"fill\":{\"color\":\"#C8D4E3\"},\"line\":{\"color\":\"white\"}},\"type\":\"table\"}]},\"layout\":{\"annotationdefaults\":{\"arrowcolor\":\"#2a3f5f\",\"arrowhead\":0,\"arrowwidth\":1},\"autotypenumbers\":\"strict\",\"coloraxis\":{\"colorbar\":{\"outlinewidth\":0,\"ticks\":\"\"}},\"colorscale\":{\"diverging\":[[0,\"#8e0152\"],[0.1,\"#c51b7d\"],[0.2,\"#de77ae\"],[0.3,\"#f1b6da\"],[0.4,\"#fde0ef\"],[0.5,\"#f7f7f7\"],[0.6,\"#e6f5d0\"],[0.7,\"#b8e186\"],[0.8,\"#7fbc41\"],[0.9,\"#4d9221\"],[1,\"#276419\"]],\"sequential\":[[0.0,\"#0d0887\"],[0.1111111111111111,\"#46039f\"],[0.2222222222222222,\"#7201a8\"],[0.3333333333333333,\"#9c179e\"],[0.4444444444444444,\"#bd3786\"],[0.5555555555555556,\"#d8576b\"],[0.6666666666666666,\"#ed7953\"],[0.7777777777777778,\"#fb9f3a\"],[0.8888888888888888,\"#fdca26\"],[1.0,\"#f0f921\"]],\"sequentialminus\":[[0.0,\"#0d0887\"],[0.1111111111111111,\"#46039f\"],[0.2222222222222222,\"#7201a8\"],[0.3333333333333333,\"#9c179e\"],[0.4444444444444444,\"#bd3786\"],[0.5555555555555556,\"#d8576b\"],[0.6666666666666666,\"#ed7953\"],[0.7777777777777778,\"#fb9f3a\"],[0.8888888888888888,\"#fdca26\"],[1.0,\"#f0f921\"]]},\"colorway\":[\"#636efa\",\"#EF553B\",\"#00cc96\",\"#ab63fa\",\"#FFA15A\",\"#19d3f3\",\"#FF6692\",\"#B6E880\",\"#FF97FF\",\"#FECB52\"],\"font\":{\"color\":\"#2a3f5f\"},\"geo\":{\"bgcolor\":\"white\",\"lakecolor\":\"white\",\"landcolor\":\"#E5ECF6\",\"showlakes\":true,\"showland\":true,\"subunitcolor\":\"white\"},\"hoverlabel\":{\"align\":\"left\"},\"hovermode\":\"closest\",\"mapbox\":{\"style\":\"light\"},\"paper_bgcolor\":\"white\",\"plot_bgcolor\":\"#E5ECF6\",\"polar\":{\"angularaxis\":{\"gridcolor\":\"white\",\"linecolor\":\"white\",\"ticks\":\"\"},\"bgcolor\":\"#E5ECF6\",\"radialaxis\":{\"gridcolor\":\"white\",\"linecolor\":\"white\",\"ticks\":\"\"}},\"scene\":{\"xaxis\":{\"backgroundcolor\":\"#E5ECF6\",\"gridcolor\":\"white\",\"gridwidth\":2,\"linecolor\":\"white\",\"showbackground\":true,\"ticks\":\"\",\"zerolinecolor\":\"white\"},\"yaxis\":{\"backgroundcolor\":\"#E5ECF6\",\"gridcolor\":\"white\",\"gridwidth\":2,\"linecolor\":\"white\",\"showbackground\":true,\"ticks\":\"\",\"zerolinecolor\":\"white\"},\"zaxis\":{\"backgroundcolor\":\"#E5ECF6\",\"gridcolor\":\"white\",\"gridwidth\":2,\"linecolor\":\"white\",\"showbackground\":true,\"ticks\":\"\",\"zerolinecolor\":\"white\"}},\"shapedefaults\":{\"line\":{\"color\":\"#2a3f5f\"}},\"ternary\":{\"aaxis\":{\"gridcolor\":\"white\",\"linecolor\":\"white\",\"ticks\":\"\"},\"baxis\":{\"gridcolor\":\"white\",\"linecolor\":\"white\",\"ticks\":\"\"},\"bgcolor\":\"#E5ECF6\",\"caxis\":{\"gridcolor\":\"white\",\"linecolor\":\"white\",\"ticks\":\"\"}},\"title\":{\"x\":0.05},\"xaxis\":{\"automargin\":true,\"gridcolor\":\"white\",\"linecolor\":\"white\",\"ticks\":\"\",\"title\":{\"standoff\":15},\"zerolinecolor\":\"white\",\"zerolinewidth\":2},\"yaxis\":{\"automargin\":true,\"gridcolor\":\"white\",\"linecolor\":\"white\",\"ticks\":\"\",\"title\":{\"standoff\":15},\"zerolinecolor\":\"white\",\"zerolinewidth\":2}}},\"title\":{\"text\":\"Evolution du prix du panier mensuel\"},\"xaxis\":{\"rangeslider\":{\"visible\":true},\"rangeselector\":{\"buttons\":[{\"count\":1,\"label\":\"1m\",\"step\":\"month\",\"stepmode\":\"backward\"},{\"count\":6,\"label\":\"6m\",\"step\":\"month\",\"stepmode\":\"backward\"},{\"count\":1,\"label\":\"YTD\",\"step\":\"year\",\"stepmode\":\"todate\"},{\"count\":1,\"label\":\"1y\",\"step\":\"year\",\"stepmode\":\"backward\"},{\"step\":\"all\"}]},\"type\":\"date\"}},                        {\"responsive\": true}                    ).then(function(){\n",
              "                            \n",
              "var gd = document.getElementById('727a5af6-d1e8-49dd-832a-ea693868c5c2');\n",
              "var x = new MutationObserver(function (mutations, observer) {{\n",
              "        var display = window.getComputedStyle(gd).display;\n",
              "        if (!display || display === 'none') {{\n",
              "            console.log([gd, 'removed!']);\n",
              "            Plotly.purge(gd);\n",
              "            observer.disconnect();\n",
              "        }}\n",
              "}});\n",
              "\n",
              "// Listen for the removal of the full notebook cells\n",
              "var notebookContainer = gd.closest('#notebook-container');\n",
              "if (notebookContainer) {{\n",
              "    x.observe(notebookContainer, {childList: true});\n",
              "}}\n",
              "\n",
              "// Listen for the clearing of the current output cell\n",
              "var outputEl = gd.closest('.output');\n",
              "if (outputEl) {{\n",
              "    x.observe(outputEl, {childList: true});\n",
              "}}\n",
              "\n",
              "                        })                };                            </script>        </div>\n",
              "</body>\n",
              "</html>"
            ]
          },
          "metadata": {}
        }
      ]
    },
    {
      "cell_type": "code",
      "source": [
        "fig = go.Figure()\n",
        "\n",
        "fig.add_trace(\n",
        "    go.Scatter(x=L1, y=list(dff_['IPC']),name='IPC'))\n",
        "fig.add_trace(\n",
        "    go.Scatter(x=L1, y=list(dff_['IPP']),name='IPP'))\n",
        "\n",
        "fig.update_layout(\n",
        "    title_text=\"Evolution des indices\"\n",
        ")\n",
        "\n",
        "fig.update_layout(\n",
        "    xaxis=dict(\n",
        "        rangeselector=dict(\n",
        "            buttons=list([\n",
        "                dict(count=1,\n",
        "                     label=\"1m\",\n",
        "                     step=\"month\",\n",
        "                     stepmode=\"backward\"),\n",
        "                dict(count=6,\n",
        "                     label=\"6m\",\n",
        "                     step=\"month\",\n",
        "                     stepmode=\"backward\"),\n",
        "                dict(count=1,\n",
        "                     label=\"YTD\",\n",
        "                     step=\"year\",\n",
        "                     stepmode=\"todate\"),\n",
        "                dict(count=1,\n",
        "                     label=\"1y\",\n",
        "                     step=\"year\",\n",
        "                     stepmode=\"backward\"),\n",
        "                dict(step=\"all\")\n",
        "            ])\n",
        "        ),\n",
        "        rangeslider=dict(\n",
        "            visible=True\n",
        "        ),\n",
        "        type=\"date\"\n",
        "    )\n",
        ")\n",
        "\n",
        "fig.show()"
      ],
      "metadata": {
        "id": "c5288pdwYNlx",
        "colab": {
          "base_uri": "https://localhost:8080/",
          "height": 542
        },
        "outputId": "df55d3ff-e895-4f81-cdf4-9e2cc60f4cb6"
      },
      "execution_count": null,
      "outputs": [
        {
          "output_type": "display_data",
          "data": {
            "text/html": [
              "<html>\n",
              "<head><meta charset=\"utf-8\" /></head>\n",
              "<body>\n",
              "    <div>            <script src=\"https://cdnjs.cloudflare.com/ajax/libs/mathjax/2.7.5/MathJax.js?config=TeX-AMS-MML_SVG\"></script><script type=\"text/javascript\">if (window.MathJax) {MathJax.Hub.Config({SVG: {font: \"STIX-Web\"}});}</script>                <script type=\"text/javascript\">window.PlotlyConfig = {MathJaxConfig: 'local'};</script>\n",
              "        <script src=\"https://cdn.plot.ly/plotly-2.8.3.min.js\"></script>                <div id=\"874c5cda-2282-42af-ae1c-d7861c78e385\" class=\"plotly-graph-div\" style=\"height:525px; width:100%;\"></div>            <script type=\"text/javascript\">                                    window.PLOTLYENV=window.PLOTLYENV || {};                                    if (document.getElementById(\"874c5cda-2282-42af-ae1c-d7861c78e385\")) {                    Plotly.newPlot(                        \"874c5cda-2282-42af-ae1c-d7861c78e385\",                        [{\"name\":\"IPC\",\"x\":[0,1,2,3,4,5,6,7,8,9,10,11,12,13,14,15,16,17,18,19,20,21,22,23,24,25,26,27,28,29,30,31,32,33,34,35,36,37,38,39,40,41,42,43,44,45,46,47,48,49,50,51,52,53,54,55,56,57,58,59,60,61,62,63,64,65,66,67,68,69,70,71,72,73,74,75,76,77,78,79,80,81,82,83,84,85,86,87,88,89,90,91,92,93,94,95,96,97,98,99,100,101,102,103,104,105,106,107,108,109,110,111,112,113,114,115,116,117,118,119,120,121,122,123,124,125,126,127,128,129,130,131,132,133,134,135,136,137,138,139,140,141,142,143,144,145,146,147,148,149,150,151,152,153,154,155,156,157,158,159,160,161,162,163,164,165,166,167,168,169,170,171,172,173,174,175,176,177,178,179,180,181,182,183,184,185,186,187,188,189,190,191,192,193,194,195,196,197,198,199,200,201,202,203,204,205,206,207,208,209,210,211,212,213,214,215],\"y\":[83.85,83.64,83.68,83.76,83.99,83.97,83.51,83.09,83.2,83.42,83.45,83.56,84.31,84.67,85.04,85.36,85.35,86.06,85.74,85.6,86.26,85.92,85.82,85.56,86.07,85.72,86.26,86.64,86.87,87.27,86.4,85.13,85.25,85.26,85.43,85.64,85.64,86.09,86.83,86.51,86.85,86.65,86.01,85.41,85.45,85.6,85.89,86.22,86.59,87.0,87.11,87.3,87.88,87.87,87.66,87.28,87.6,87.33,87.87,87.71,87.98,87.63,87.58,88.29,88.69,89.01,88.4,88.29,88.77,89.23,89.83,90.39,91.68,91.86,92.26,92.87,93.77,93.95,94.02,92.91,92.98,93.43,93.27,93.31,93.88,93.92,93.79,93.85,94.13,93.61,92.96,92.28,92.7,93.1,93.16,93.05,93.94,94.01,94.34,94.7,94.95,94.8,94.29,93.46,93.48,93.57,93.99,94.15,94.01,94.3,95.1,95.25,96.21,96.45,96.31,96.16,96.36,96.71,96.98,97.25,97.34,97.89,98.58,98.58,99.14,99.54,98.93,98.45,98.66,99.5,99.51,99.49,99.43,99.52,100.0,100.3,100.92,101.36,100.69,100.25,99.79,99.69,99.78,99.88,99.8,99.67,99.86,99.7,100.03,99.82,99.28,98.75,99.18,99.54,99.53,99.46,99.55,99.74,99.95,99.97,100.42,100.18,99.65,99.56,100.06,100.55,100.34,100.03,99.93,99.9,100.36,100.36,101.39,100.76,100.87,101.04,100.53,100.47,100.62,100.75,101.2,101.46,101.17,101.11,101.84,101.55,101.62,101.67,101.6,102.02,102.12,102.1,102.43,102.29,102.66,102.72,103.64,103.46,103.59,103.88,104.46,104.3,104.11,104.7,105.23,105.41,105.2,105.27,105.99,106.1,106.66,107.15,106.62,106.15,106.28,106.87],\"type\":\"scatter\"},{\"name\":\"IPP\",\"x\":[0,1,2,3,4,5,6,7,8,9,10,11,12,13,14,15,16,17,18,19,20,21,22,23,24,25,26,27,28,29,30,31,32,33,34,35,36,37,38,39,40,41,42,43,44,45,46,47,48,49,50,51,52,53,54,55,56,57,58,59,60,61,62,63,64,65,66,67,68,69,70,71,72,73,74,75,76,77,78,79,80,81,82,83,84,85,86,87,88,89,90,91,92,93,94,95,96,97,98,99,100,101,102,103,104,105,106,107,108,109,110,111,112,113,114,115,116,117,118,119,120,121,122,123,124,125,126,127,128,129,130,131,132,133,134,135,136,137,138,139,140,141,142,143,144,145,146,147,148,149,150,151,152,153,154,155,156,157,158,159,160,161,162,163,164,165,166,167,168,169,170,171,172,173,174,175,176,177,178,179,180,181,182,183,184,185,186,187,188,189,190,191,192,193,194,195,196,197,198,199,200,201,202,203,204,205,206,207,208,209,210,211,212,213,214,215],\"y\":[85.7,85.6,86.0,86.4,86.3,86.1,86.3,86.5,86.7,86.8,86.4,86.8,87.1,87.7,87.9,87.0,86.4,86.5,86.6,86.8,86.7,86.8,87.0,86.8,87.1,87.1,87.8,88.2,88.7,88.7,89.1,89.5,89.5,90.0,89.7,89.5,89.6,89.4,90.5,90.7,90.5,91.3,91.5,91.9,92.3,92.5,91.8,92.0,92.6,92.6,93.3,94.0,94.2,94.4,95.2,95.5,94.8,94.6,94.4,94.2,94.3,94.9,95.4,96.0,96.4,96.5,96.9,97.0,97.5,97.6,98.4,99.0,99.4,100.0,100.6,101.3,102.8,103.6,104.1,103.6,102.9,101.4,99.6,98.2,95.8,95.2,94.8,94.7,94.8,95.2,95.1,95.4,95.1,95.0,95.2,95.2,96.0,96.0,96.4,96.9,97.1,97.2,97.3,97.3,97.8,98.2,98.6,99.2,100.2,100.9,101.9,102.8,102.6,102.5,102.9,102.9,103.1,103.1,103.4,103.1,103.8,104.3,104.8,104.8,104.3,103.6,104.0,104.9,105.1,105.2,104.8,104.5,104.9,105.3,105.0,104.4,104.1,104.2,104.5,104.6,104.4,103.8,103.7,103.9,103.7,103.7,103.5,103.5,103.6,103.8,103.8,103.5,103.3,102.5,101.9,100.6,99.4,100.3,100.7,101.1,101.4,101.3,100.9,99.7,99.4,99.1,98.9,97.9,97.1,96.8,97.2,97.4,98.0,98.4,98.1,98.0,98.2,98.8,98.6,99.5,100.0,100.3,100.1,100.5,100.1,99.7,99.7,100.0,100.5,100.6,101.1,101.2,101.7,101.4,101.7,102.3,103.2,103.1,103.2,103.5,103.7,104.1,103.2,102.2,102.2,102.8,103.0,103.5,103.6,102.8,103.0,102.6,102.9,102.7,102.7,103.0],\"type\":\"scatter\"}],                        {\"template\":{\"data\":{\"bar\":[{\"error_x\":{\"color\":\"#2a3f5f\"},\"error_y\":{\"color\":\"#2a3f5f\"},\"marker\":{\"line\":{\"color\":\"#E5ECF6\",\"width\":0.5},\"pattern\":{\"fillmode\":\"overlay\",\"size\":10,\"solidity\":0.2}},\"type\":\"bar\"}],\"barpolar\":[{\"marker\":{\"line\":{\"color\":\"#E5ECF6\",\"width\":0.5},\"pattern\":{\"fillmode\":\"overlay\",\"size\":10,\"solidity\":0.2}},\"type\":\"barpolar\"}],\"carpet\":[{\"aaxis\":{\"endlinecolor\":\"#2a3f5f\",\"gridcolor\":\"white\",\"linecolor\":\"white\",\"minorgridcolor\":\"white\",\"startlinecolor\":\"#2a3f5f\"},\"baxis\":{\"endlinecolor\":\"#2a3f5f\",\"gridcolor\":\"white\",\"linecolor\":\"white\",\"minorgridcolor\":\"white\",\"startlinecolor\":\"#2a3f5f\"},\"type\":\"carpet\"}],\"choropleth\":[{\"colorbar\":{\"outlinewidth\":0,\"ticks\":\"\"},\"type\":\"choropleth\"}],\"contour\":[{\"colorbar\":{\"outlinewidth\":0,\"ticks\":\"\"},\"colorscale\":[[0.0,\"#0d0887\"],[0.1111111111111111,\"#46039f\"],[0.2222222222222222,\"#7201a8\"],[0.3333333333333333,\"#9c179e\"],[0.4444444444444444,\"#bd3786\"],[0.5555555555555556,\"#d8576b\"],[0.6666666666666666,\"#ed7953\"],[0.7777777777777778,\"#fb9f3a\"],[0.8888888888888888,\"#fdca26\"],[1.0,\"#f0f921\"]],\"type\":\"contour\"}],\"contourcarpet\":[{\"colorbar\":{\"outlinewidth\":0,\"ticks\":\"\"},\"type\":\"contourcarpet\"}],\"heatmap\":[{\"colorbar\":{\"outlinewidth\":0,\"ticks\":\"\"},\"colorscale\":[[0.0,\"#0d0887\"],[0.1111111111111111,\"#46039f\"],[0.2222222222222222,\"#7201a8\"],[0.3333333333333333,\"#9c179e\"],[0.4444444444444444,\"#bd3786\"],[0.5555555555555556,\"#d8576b\"],[0.6666666666666666,\"#ed7953\"],[0.7777777777777778,\"#fb9f3a\"],[0.8888888888888888,\"#fdca26\"],[1.0,\"#f0f921\"]],\"type\":\"heatmap\"}],\"heatmapgl\":[{\"colorbar\":{\"outlinewidth\":0,\"ticks\":\"\"},\"colorscale\":[[0.0,\"#0d0887\"],[0.1111111111111111,\"#46039f\"],[0.2222222222222222,\"#7201a8\"],[0.3333333333333333,\"#9c179e\"],[0.4444444444444444,\"#bd3786\"],[0.5555555555555556,\"#d8576b\"],[0.6666666666666666,\"#ed7953\"],[0.7777777777777778,\"#fb9f3a\"],[0.8888888888888888,\"#fdca26\"],[1.0,\"#f0f921\"]],\"type\":\"heatmapgl\"}],\"histogram\":[{\"marker\":{\"pattern\":{\"fillmode\":\"overlay\",\"size\":10,\"solidity\":0.2}},\"type\":\"histogram\"}],\"histogram2d\":[{\"colorbar\":{\"outlinewidth\":0,\"ticks\":\"\"},\"colorscale\":[[0.0,\"#0d0887\"],[0.1111111111111111,\"#46039f\"],[0.2222222222222222,\"#7201a8\"],[0.3333333333333333,\"#9c179e\"],[0.4444444444444444,\"#bd3786\"],[0.5555555555555556,\"#d8576b\"],[0.6666666666666666,\"#ed7953\"],[0.7777777777777778,\"#fb9f3a\"],[0.8888888888888888,\"#fdca26\"],[1.0,\"#f0f921\"]],\"type\":\"histogram2d\"}],\"histogram2dcontour\":[{\"colorbar\":{\"outlinewidth\":0,\"ticks\":\"\"},\"colorscale\":[[0.0,\"#0d0887\"],[0.1111111111111111,\"#46039f\"],[0.2222222222222222,\"#7201a8\"],[0.3333333333333333,\"#9c179e\"],[0.4444444444444444,\"#bd3786\"],[0.5555555555555556,\"#d8576b\"],[0.6666666666666666,\"#ed7953\"],[0.7777777777777778,\"#fb9f3a\"],[0.8888888888888888,\"#fdca26\"],[1.0,\"#f0f921\"]],\"type\":\"histogram2dcontour\"}],\"mesh3d\":[{\"colorbar\":{\"outlinewidth\":0,\"ticks\":\"\"},\"type\":\"mesh3d\"}],\"parcoords\":[{\"line\":{\"colorbar\":{\"outlinewidth\":0,\"ticks\":\"\"}},\"type\":\"parcoords\"}],\"pie\":[{\"automargin\":true,\"type\":\"pie\"}],\"scatter\":[{\"marker\":{\"colorbar\":{\"outlinewidth\":0,\"ticks\":\"\"}},\"type\":\"scatter\"}],\"scatter3d\":[{\"line\":{\"colorbar\":{\"outlinewidth\":0,\"ticks\":\"\"}},\"marker\":{\"colorbar\":{\"outlinewidth\":0,\"ticks\":\"\"}},\"type\":\"scatter3d\"}],\"scattercarpet\":[{\"marker\":{\"colorbar\":{\"outlinewidth\":0,\"ticks\":\"\"}},\"type\":\"scattercarpet\"}],\"scattergeo\":[{\"marker\":{\"colorbar\":{\"outlinewidth\":0,\"ticks\":\"\"}},\"type\":\"scattergeo\"}],\"scattergl\":[{\"marker\":{\"colorbar\":{\"outlinewidth\":0,\"ticks\":\"\"}},\"type\":\"scattergl\"}],\"scattermapbox\":[{\"marker\":{\"colorbar\":{\"outlinewidth\":0,\"ticks\":\"\"}},\"type\":\"scattermapbox\"}],\"scatterpolar\":[{\"marker\":{\"colorbar\":{\"outlinewidth\":0,\"ticks\":\"\"}},\"type\":\"scatterpolar\"}],\"scatterpolargl\":[{\"marker\":{\"colorbar\":{\"outlinewidth\":0,\"ticks\":\"\"}},\"type\":\"scatterpolargl\"}],\"scatterternary\":[{\"marker\":{\"colorbar\":{\"outlinewidth\":0,\"ticks\":\"\"}},\"type\":\"scatterternary\"}],\"surface\":[{\"colorbar\":{\"outlinewidth\":0,\"ticks\":\"\"},\"colorscale\":[[0.0,\"#0d0887\"],[0.1111111111111111,\"#46039f\"],[0.2222222222222222,\"#7201a8\"],[0.3333333333333333,\"#9c179e\"],[0.4444444444444444,\"#bd3786\"],[0.5555555555555556,\"#d8576b\"],[0.6666666666666666,\"#ed7953\"],[0.7777777777777778,\"#fb9f3a\"],[0.8888888888888888,\"#fdca26\"],[1.0,\"#f0f921\"]],\"type\":\"surface\"}],\"table\":[{\"cells\":{\"fill\":{\"color\":\"#EBF0F8\"},\"line\":{\"color\":\"white\"}},\"header\":{\"fill\":{\"color\":\"#C8D4E3\"},\"line\":{\"color\":\"white\"}},\"type\":\"table\"}]},\"layout\":{\"annotationdefaults\":{\"arrowcolor\":\"#2a3f5f\",\"arrowhead\":0,\"arrowwidth\":1},\"autotypenumbers\":\"strict\",\"coloraxis\":{\"colorbar\":{\"outlinewidth\":0,\"ticks\":\"\"}},\"colorscale\":{\"diverging\":[[0,\"#8e0152\"],[0.1,\"#c51b7d\"],[0.2,\"#de77ae\"],[0.3,\"#f1b6da\"],[0.4,\"#fde0ef\"],[0.5,\"#f7f7f7\"],[0.6,\"#e6f5d0\"],[0.7,\"#b8e186\"],[0.8,\"#7fbc41\"],[0.9,\"#4d9221\"],[1,\"#276419\"]],\"sequential\":[[0.0,\"#0d0887\"],[0.1111111111111111,\"#46039f\"],[0.2222222222222222,\"#7201a8\"],[0.3333333333333333,\"#9c179e\"],[0.4444444444444444,\"#bd3786\"],[0.5555555555555556,\"#d8576b\"],[0.6666666666666666,\"#ed7953\"],[0.7777777777777778,\"#fb9f3a\"],[0.8888888888888888,\"#fdca26\"],[1.0,\"#f0f921\"]],\"sequentialminus\":[[0.0,\"#0d0887\"],[0.1111111111111111,\"#46039f\"],[0.2222222222222222,\"#7201a8\"],[0.3333333333333333,\"#9c179e\"],[0.4444444444444444,\"#bd3786\"],[0.5555555555555556,\"#d8576b\"],[0.6666666666666666,\"#ed7953\"],[0.7777777777777778,\"#fb9f3a\"],[0.8888888888888888,\"#fdca26\"],[1.0,\"#f0f921\"]]},\"colorway\":[\"#636efa\",\"#EF553B\",\"#00cc96\",\"#ab63fa\",\"#FFA15A\",\"#19d3f3\",\"#FF6692\",\"#B6E880\",\"#FF97FF\",\"#FECB52\"],\"font\":{\"color\":\"#2a3f5f\"},\"geo\":{\"bgcolor\":\"white\",\"lakecolor\":\"white\",\"landcolor\":\"#E5ECF6\",\"showlakes\":true,\"showland\":true,\"subunitcolor\":\"white\"},\"hoverlabel\":{\"align\":\"left\"},\"hovermode\":\"closest\",\"mapbox\":{\"style\":\"light\"},\"paper_bgcolor\":\"white\",\"plot_bgcolor\":\"#E5ECF6\",\"polar\":{\"angularaxis\":{\"gridcolor\":\"white\",\"linecolor\":\"white\",\"ticks\":\"\"},\"bgcolor\":\"#E5ECF6\",\"radialaxis\":{\"gridcolor\":\"white\",\"linecolor\":\"white\",\"ticks\":\"\"}},\"scene\":{\"xaxis\":{\"backgroundcolor\":\"#E5ECF6\",\"gridcolor\":\"white\",\"gridwidth\":2,\"linecolor\":\"white\",\"showbackground\":true,\"ticks\":\"\",\"zerolinecolor\":\"white\"},\"yaxis\":{\"backgroundcolor\":\"#E5ECF6\",\"gridcolor\":\"white\",\"gridwidth\":2,\"linecolor\":\"white\",\"showbackground\":true,\"ticks\":\"\",\"zerolinecolor\":\"white\"},\"zaxis\":{\"backgroundcolor\":\"#E5ECF6\",\"gridcolor\":\"white\",\"gridwidth\":2,\"linecolor\":\"white\",\"showbackground\":true,\"ticks\":\"\",\"zerolinecolor\":\"white\"}},\"shapedefaults\":{\"line\":{\"color\":\"#2a3f5f\"}},\"ternary\":{\"aaxis\":{\"gridcolor\":\"white\",\"linecolor\":\"white\",\"ticks\":\"\"},\"baxis\":{\"gridcolor\":\"white\",\"linecolor\":\"white\",\"ticks\":\"\"},\"bgcolor\":\"#E5ECF6\",\"caxis\":{\"gridcolor\":\"white\",\"linecolor\":\"white\",\"ticks\":\"\"}},\"title\":{\"x\":0.05},\"xaxis\":{\"automargin\":true,\"gridcolor\":\"white\",\"linecolor\":\"white\",\"ticks\":\"\",\"title\":{\"standoff\":15},\"zerolinecolor\":\"white\",\"zerolinewidth\":2},\"yaxis\":{\"automargin\":true,\"gridcolor\":\"white\",\"linecolor\":\"white\",\"ticks\":\"\",\"title\":{\"standoff\":15},\"zerolinecolor\":\"white\",\"zerolinewidth\":2}}},\"title\":{\"text\":\"Evolution des indices\"},\"xaxis\":{\"rangeslider\":{\"visible\":true},\"rangeselector\":{\"buttons\":[{\"count\":1,\"label\":\"1m\",\"step\":\"month\",\"stepmode\":\"backward\"},{\"count\":6,\"label\":\"6m\",\"step\":\"month\",\"stepmode\":\"backward\"},{\"count\":1,\"label\":\"YTD\",\"step\":\"year\",\"stepmode\":\"todate\"},{\"count\":1,\"label\":\"1y\",\"step\":\"year\",\"stepmode\":\"backward\"},{\"step\":\"all\"}]},\"type\":\"date\"}},                        {\"responsive\": true}                    ).then(function(){\n",
              "                            \n",
              "var gd = document.getElementById('874c5cda-2282-42af-ae1c-d7861c78e385');\n",
              "var x = new MutationObserver(function (mutations, observer) {{\n",
              "        var display = window.getComputedStyle(gd).display;\n",
              "        if (!display || display === 'none') {{\n",
              "            console.log([gd, 'removed!']);\n",
              "            Plotly.purge(gd);\n",
              "            observer.disconnect();\n",
              "        }}\n",
              "}});\n",
              "\n",
              "// Listen for the removal of the full notebook cells\n",
              "var notebookContainer = gd.closest('#notebook-container');\n",
              "if (notebookContainer) {{\n",
              "    x.observe(notebookContainer, {childList: true});\n",
              "}}\n",
              "\n",
              "// Listen for the clearing of the current output cell\n",
              "var outputEl = gd.closest('.output');\n",
              "if (outputEl) {{\n",
              "    x.observe(outputEl, {childList: true});\n",
              "}}\n",
              "\n",
              "                        })                };                            </script>        </div>\n",
              "</body>\n",
              "</html>"
            ]
          },
          "metadata": {}
        }
      ]
    },
    {
      "cell_type": "markdown",
      "source": [
        "On remarque que l'allure de la courbe du prix du panier ressemble à celle des indices.\n",
        "\n",
        "\n",
        "---\n",
        "\n",
        "Ces remarques sont à confirmer (ou rejetter) par le modèle qu'on a choisi."
      ],
      "metadata": {
        "id": "M8UVQk-yZDcl"
      }
    },
    {
      "cell_type": "markdown",
      "source": [
        "# Le modèle et régressions linéaires\n",
        "Comme on observe une possible relation linéaire entre le prix du panier et les deux indices, nous allons effectuer plusieurs régressions linéaires pour vérifier cela.\n",
        "\n",
        "\n",
        "\n",
        "Le modèle sera de la forme suivante:\n",
        "\n",
        "\n",
        "\n",
        "Prix = alpha + Beta1*Variable1 + Beta2*Variable2 +...+ epsilon \n",
        "\n",
        "\n",
        "où le modèle s'entraîne à déterminer par le calcul les différents Beta et l'epsilon. Ces coefficients représentent chacun le degré de corrélation entre le prix et la variable auquel il est associé."
      ],
      "metadata": {
        "id": "J7NSxp8zN1bP"
      }
    },
    {
      "cell_type": "code",
      "source": [
        "from sklearn import linear_model #on utilisera le package sklearn pour ce faire."
      ],
      "metadata": {
        "id": "szDRPq73N0_Y"
      },
      "execution_count": null,
      "outputs": []
    },
    {
      "cell_type": "code",
      "source": [
        "dff_.head()"
      ],
      "metadata": {
        "colab": {
          "base_uri": "https://localhost:8080/",
          "height": 206
        },
        "id": "tDlFs7LkOjqp",
        "outputId": "d7ef57c0-4432-48ca-89ff-f7fb35753eed"
      },
      "execution_count": null,
      "outputs": [
        {
          "output_type": "execute_result",
          "data": {
            "text/plain": [
              "   Période   Panier Mensuel Moyen     IPC   IPP  Prod céréales  \\\n",
              "0  2002-01                   82.93  83.85  85.7     103.651502   \n",
              "1  2002-02                   81.88  83.64  85.6     100.530575   \n",
              "2  2002-03                   82.76  83.68  86.0      97.409648   \n",
              "3  2002-04                   82.88  83.76  86.4      94.288720   \n",
              "4  2002-05                   83.11  83.99  86.3      96.601878   \n",
              "\n",
              "   Prod graines(huile)  Prod légumes  Prod fruits  FR_prod_bovine  \\\n",
              "0           207.367128    213.486758   162.572370          149.34   \n",
              "1           202.933468    191.311962   155.543274          127.47   \n",
              "2           198.499807    169.137166   148.514179          135.59   \n",
              "3           194.066146    146.962371   141.485084          136.37   \n",
              "4           195.615256    146.817438   130.607657          139.47   \n",
              "\n",
              "   FR_prod_chicken  \n",
              "0          62043.0  \n",
              "1          69687.0  \n",
              "2          82800.0  \n",
              "3          64757.0  \n",
              "4          66671.0  "
            ],
            "text/html": [
              "\n",
              "  <div id=\"df-0b27fe8b-0545-42fb-8805-eac823ae5044\">\n",
              "    <div class=\"colab-df-container\">\n",
              "      <div>\n",
              "<style scoped>\n",
              "    .dataframe tbody tr th:only-of-type {\n",
              "        vertical-align: middle;\n",
              "    }\n",
              "\n",
              "    .dataframe tbody tr th {\n",
              "        vertical-align: top;\n",
              "    }\n",
              "\n",
              "    .dataframe thead th {\n",
              "        text-align: right;\n",
              "    }\n",
              "</style>\n",
              "<table border=\"1\" class=\"dataframe\">\n",
              "  <thead>\n",
              "    <tr style=\"text-align: right;\">\n",
              "      <th></th>\n",
              "      <th>Période</th>\n",
              "      <th>Panier Mensuel Moyen</th>\n",
              "      <th>IPC</th>\n",
              "      <th>IPP</th>\n",
              "      <th>Prod céréales</th>\n",
              "      <th>Prod graines(huile)</th>\n",
              "      <th>Prod légumes</th>\n",
              "      <th>Prod fruits</th>\n",
              "      <th>FR_prod_bovine</th>\n",
              "      <th>FR_prod_chicken</th>\n",
              "    </tr>\n",
              "  </thead>\n",
              "  <tbody>\n",
              "    <tr>\n",
              "      <th>0</th>\n",
              "      <td>2002-01</td>\n",
              "      <td>82.93</td>\n",
              "      <td>83.85</td>\n",
              "      <td>85.7</td>\n",
              "      <td>103.651502</td>\n",
              "      <td>207.367128</td>\n",
              "      <td>213.486758</td>\n",
              "      <td>162.572370</td>\n",
              "      <td>149.34</td>\n",
              "      <td>62043.0</td>\n",
              "    </tr>\n",
              "    <tr>\n",
              "      <th>1</th>\n",
              "      <td>2002-02</td>\n",
              "      <td>81.88</td>\n",
              "      <td>83.64</td>\n",
              "      <td>85.6</td>\n",
              "      <td>100.530575</td>\n",
              "      <td>202.933468</td>\n",
              "      <td>191.311962</td>\n",
              "      <td>155.543274</td>\n",
              "      <td>127.47</td>\n",
              "      <td>69687.0</td>\n",
              "    </tr>\n",
              "    <tr>\n",
              "      <th>2</th>\n",
              "      <td>2002-03</td>\n",
              "      <td>82.76</td>\n",
              "      <td>83.68</td>\n",
              "      <td>86.0</td>\n",
              "      <td>97.409648</td>\n",
              "      <td>198.499807</td>\n",
              "      <td>169.137166</td>\n",
              "      <td>148.514179</td>\n",
              "      <td>135.59</td>\n",
              "      <td>82800.0</td>\n",
              "    </tr>\n",
              "    <tr>\n",
              "      <th>3</th>\n",
              "      <td>2002-04</td>\n",
              "      <td>82.88</td>\n",
              "      <td>83.76</td>\n",
              "      <td>86.4</td>\n",
              "      <td>94.288720</td>\n",
              "      <td>194.066146</td>\n",
              "      <td>146.962371</td>\n",
              "      <td>141.485084</td>\n",
              "      <td>136.37</td>\n",
              "      <td>64757.0</td>\n",
              "    </tr>\n",
              "    <tr>\n",
              "      <th>4</th>\n",
              "      <td>2002-05</td>\n",
              "      <td>83.11</td>\n",
              "      <td>83.99</td>\n",
              "      <td>86.3</td>\n",
              "      <td>96.601878</td>\n",
              "      <td>195.615256</td>\n",
              "      <td>146.817438</td>\n",
              "      <td>130.607657</td>\n",
              "      <td>139.47</td>\n",
              "      <td>66671.0</td>\n",
              "    </tr>\n",
              "  </tbody>\n",
              "</table>\n",
              "</div>\n",
              "      <button class=\"colab-df-convert\" onclick=\"convertToInteractive('df-0b27fe8b-0545-42fb-8805-eac823ae5044')\"\n",
              "              title=\"Convert this dataframe to an interactive table.\"\n",
              "              style=\"display:none;\">\n",
              "        \n",
              "  <svg xmlns=\"http://www.w3.org/2000/svg\" height=\"24px\"viewBox=\"0 0 24 24\"\n",
              "       width=\"24px\">\n",
              "    <path d=\"M0 0h24v24H0V0z\" fill=\"none\"/>\n",
              "    <path d=\"M18.56 5.44l.94 2.06.94-2.06 2.06-.94-2.06-.94-.94-2.06-.94 2.06-2.06.94zm-11 1L8.5 8.5l.94-2.06 2.06-.94-2.06-.94L8.5 2.5l-.94 2.06-2.06.94zm10 10l.94 2.06.94-2.06 2.06-.94-2.06-.94-.94-2.06-.94 2.06-2.06.94z\"/><path d=\"M17.41 7.96l-1.37-1.37c-.4-.4-.92-.59-1.43-.59-.52 0-1.04.2-1.43.59L10.3 9.45l-7.72 7.72c-.78.78-.78 2.05 0 2.83L4 21.41c.39.39.9.59 1.41.59.51 0 1.02-.2 1.41-.59l7.78-7.78 2.81-2.81c.8-.78.8-2.07 0-2.86zM5.41 20L4 18.59l7.72-7.72 1.47 1.35L5.41 20z\"/>\n",
              "  </svg>\n",
              "      </button>\n",
              "      \n",
              "  <style>\n",
              "    .colab-df-container {\n",
              "      display:flex;\n",
              "      flex-wrap:wrap;\n",
              "      gap: 12px;\n",
              "    }\n",
              "\n",
              "    .colab-df-convert {\n",
              "      background-color: #E8F0FE;\n",
              "      border: none;\n",
              "      border-radius: 50%;\n",
              "      cursor: pointer;\n",
              "      display: none;\n",
              "      fill: #1967D2;\n",
              "      height: 32px;\n",
              "      padding: 0 0 0 0;\n",
              "      width: 32px;\n",
              "    }\n",
              "\n",
              "    .colab-df-convert:hover {\n",
              "      background-color: #E2EBFA;\n",
              "      box-shadow: 0px 1px 2px rgba(60, 64, 67, 0.3), 0px 1px 3px 1px rgba(60, 64, 67, 0.15);\n",
              "      fill: #174EA6;\n",
              "    }\n",
              "\n",
              "    [theme=dark] .colab-df-convert {\n",
              "      background-color: #3B4455;\n",
              "      fill: #D2E3FC;\n",
              "    }\n",
              "\n",
              "    [theme=dark] .colab-df-convert:hover {\n",
              "      background-color: #434B5C;\n",
              "      box-shadow: 0px 1px 3px 1px rgba(0, 0, 0, 0.15);\n",
              "      filter: drop-shadow(0px 1px 2px rgba(0, 0, 0, 0.3));\n",
              "      fill: #FFFFFF;\n",
              "    }\n",
              "  </style>\n",
              "\n",
              "      <script>\n",
              "        const buttonEl =\n",
              "          document.querySelector('#df-0b27fe8b-0545-42fb-8805-eac823ae5044 button.colab-df-convert');\n",
              "        buttonEl.style.display =\n",
              "          google.colab.kernel.accessAllowed ? 'block' : 'none';\n",
              "\n",
              "        async function convertToInteractive(key) {\n",
              "          const element = document.querySelector('#df-0b27fe8b-0545-42fb-8805-eac823ae5044');\n",
              "          const dataTable =\n",
              "            await google.colab.kernel.invokeFunction('convertToInteractive',\n",
              "                                                     [key], {});\n",
              "          if (!dataTable) return;\n",
              "\n",
              "          const docLinkHtml = 'Like what you see? Visit the ' +\n",
              "            '<a target=\"_blank\" href=https://colab.research.google.com/notebooks/data_table.ipynb>data table notebook</a>'\n",
              "            + ' to learn more about interactive tables.';\n",
              "          element.innerHTML = '';\n",
              "          dataTable['output_type'] = 'display_data';\n",
              "          await google.colab.output.renderOutput(dataTable, element);\n",
              "          const docLink = document.createElement('div');\n",
              "          docLink.innerHTML = docLinkHtml;\n",
              "          element.appendChild(docLink);\n",
              "        }\n",
              "      </script>\n",
              "    </div>\n",
              "  </div>\n",
              "  "
            ]
          },
          "metadata": {},
          "execution_count": 9
        }
      ]
    },
    {
      "cell_type": "markdown",
      "source": [
        "Dans la suite on entraîne 4 modèles, deux modèles de régressions linéaires simples avec comme seule variable explicative les indices IPC et IPP puis un modèle utilisant ces deux-là en même temps. Ces 3 modèles sont les plus importants car ce sont les deux variables qui sont en théorie les plus signifiantes statistiquement. On entraîne ensuite unn quatrième modèle qui cette fois-ci utilise toutes les variables d'indices et de production qui composent notre base."
      ],
      "metadata": {
        "id": "Tmwz4RjuBmDz"
      }
    },
    {
      "cell_type": "code",
      "source": [
        "reg_IPC = linear_model.LinearRegression() #on crée notre objet de régression linéaire\n",
        "reg_IPC.fit(dff_[['IPC']], dff_[' Panier Mensuel Moyen ']) #on entraîne grâce à la méthode fit notre modèle"
      ],
      "metadata": {
        "colab": {
          "base_uri": "https://localhost:8080/"
        },
        "id": "NNRaHQeuPfLl",
        "outputId": "63bd2996-5fa2-4920-9d1a-f38adb9bf323"
      },
      "execution_count": null,
      "outputs": [
        {
          "output_type": "execute_result",
          "data": {
            "text/plain": [
              "LinearRegression()"
            ]
          },
          "metadata": {},
          "execution_count": 10
        }
      ]
    },
    {
      "cell_type": "code",
      "source": [
        "reg_IPC.coef_ #on obtient le coefficient"
      ],
      "metadata": {
        "colab": {
          "base_uri": "https://localhost:8080/"
        },
        "id": "uxtX6TsKS62M",
        "outputId": "54a47d85-6622-4594-d772-7022536c1791"
      },
      "execution_count": null,
      "outputs": [
        {
          "output_type": "execute_result",
          "data": {
            "text/plain": [
              "array([1.00315395])"
            ]
          },
          "metadata": {},
          "execution_count": 11
        }
      ]
    },
    {
      "cell_type": "code",
      "source": [
        "reg_IPC.intercept_ #on obtient l'erreur"
      ],
      "metadata": {
        "colab": {
          "base_uri": "https://localhost:8080/"
        },
        "id": "lWBbbE_4S6b_",
        "outputId": "ec79294c-458d-4550-888d-d9a385955fa9"
      },
      "execution_count": null,
      "outputs": [
        {
          "output_type": "execute_result",
          "data": {
            "text/plain": [
              "0.9951734086133683"
            ]
          },
          "metadata": {},
          "execution_count": 12
        }
      ]
    },
    {
      "cell_type": "code",
      "source": [
        "reg_IPP = linear_model.LinearRegression() \n",
        "reg_IPP.fit(dff_[['IPP']], dff_[' Panier Mensuel Moyen '])"
      ],
      "metadata": {
        "colab": {
          "base_uri": "https://localhost:8080/"
        },
        "id": "N_zGaRJrTNsA",
        "outputId": "32997080-643a-4a06-ee29-38850e4e491d"
      },
      "execution_count": null,
      "outputs": [
        {
          "output_type": "execute_result",
          "data": {
            "text/plain": [
              "LinearRegression()"
            ]
          },
          "metadata": {},
          "execution_count": 13
        }
      ]
    },
    {
      "cell_type": "code",
      "source": [
        "reg_IPP.coef_"
      ],
      "metadata": {
        "colab": {
          "base_uri": "https://localhost:8080/"
        },
        "id": "jsJY3DGhTUHh",
        "outputId": "2f320343-6c1f-4e39-9377-8c3644fc76e4"
      },
      "execution_count": null,
      "outputs": [
        {
          "output_type": "execute_result",
          "data": {
            "text/plain": [
              "array([1.14832704])"
            ]
          },
          "metadata": {},
          "execution_count": 14
        }
      ]
    },
    {
      "cell_type": "code",
      "source": [
        "reg_IPP.intercept_"
      ],
      "metadata": {
        "colab": {
          "base_uri": "https://localhost:8080/"
        },
        "id": "cKNOUhEHTVrb",
        "outputId": "94e6e5c4-fcfd-4cbd-e854-ae1ec6f5f6bc"
      },
      "execution_count": null,
      "outputs": [
        {
          "output_type": "execute_result",
          "data": {
            "text/plain": [
              "-16.087431367016066"
            ]
          },
          "metadata": {},
          "execution_count": 15
        }
      ]
    },
    {
      "cell_type": "code",
      "source": [
        "reg_indices = linear_model.LinearRegression() \n",
        "reg_indices.fit(dff_[['IPP','IPC']], dff_[' Panier Mensuel Moyen '])"
      ],
      "metadata": {
        "colab": {
          "base_uri": "https://localhost:8080/"
        },
        "id": "EDtN9m27TwdL",
        "outputId": "a529e18f-228a-4e0f-d164-e551dd6d2724"
      },
      "execution_count": null,
      "outputs": [
        {
          "output_type": "execute_result",
          "data": {
            "text/plain": [
              "LinearRegression()"
            ]
          },
          "metadata": {},
          "execution_count": 16
        }
      ]
    },
    {
      "cell_type": "code",
      "source": [
        "reg_indices.coef_"
      ],
      "metadata": {
        "colab": {
          "base_uri": "https://localhost:8080/"
        },
        "id": "9Uye3YNBT4JN",
        "outputId": "7ad0b633-9194-4133-f99b-4502bd29004a"
      },
      "execution_count": null,
      "outputs": [
        {
          "output_type": "execute_result",
          "data": {
            "text/plain": [
              "array([0.55385643, 0.59504504])"
            ]
          },
          "metadata": {},
          "execution_count": 17
        }
      ]
    },
    {
      "cell_type": "code",
      "source": [
        "reg_indices.intercept_"
      ],
      "metadata": {
        "colab": {
          "base_uri": "https://localhost:8080/"
        },
        "id": "uLLoAqP1T2gy",
        "outputId": "aa16ddac-823b-4590-c8fa-7bbf003360f4"
      },
      "execution_count": null,
      "outputs": [
        {
          "output_type": "execute_result",
          "data": {
            "text/plain": [
              "-14.41302986056931"
            ]
          },
          "metadata": {},
          "execution_count": 18
        }
      ]
    },
    {
      "cell_type": "markdown",
      "source": [
        "On remarque donc que les indices sont assez fortement corrélés au prix du panier étudiant et ce de manière équivalente pour chacun d'eux.\n",
        "Effectuons d'autres régressions, cette fois-ci regroupant toutes les variables explicatives du modèle, à savoir: les indices de prix à la consommation et de prix à la production et les quantités produites des différentes matières premières."
      ],
      "metadata": {
        "id": "2VO7somqUBfw"
      }
    },
    {
      "cell_type": "code",
      "source": [
        "reg_complete = linear_model.LinearRegression()\n",
        "reg_complete.fit(dff_[['IPP','IPC','Prod céréales','Prod graines(huile)','Prod légumes','Prod fruits','FR_prod_bovine','FR_prod_chicken']], dff_[' Panier Mensuel Moyen '])"
      ],
      "metadata": {
        "colab": {
          "base_uri": "https://localhost:8080/"
        },
        "id": "A8yOZ6HzVAEV",
        "outputId": "36cf35df-0fcd-4d8a-d727-8467d167cde2"
      },
      "execution_count": null,
      "outputs": [
        {
          "output_type": "execute_result",
          "data": {
            "text/plain": [
              "LinearRegression()"
            ]
          },
          "metadata": {},
          "execution_count": 19
        }
      ]
    },
    {
      "cell_type": "code",
      "source": [
        "reg_complete.coef_"
      ],
      "metadata": {
        "colab": {
          "base_uri": "https://localhost:8080/"
        },
        "id": "a0uDJc-TVpDB",
        "outputId": "306126b0-5897-4d05-b679-c70d7b729755"
      },
      "execution_count": null,
      "outputs": [
        {
          "output_type": "execute_result",
          "data": {
            "text/plain": [
              "array([ 3.33184777e-01,  6.79576760e-01, -1.03486241e-02, -5.97490953e-03,\n",
              "       -3.77079075e-02,  8.23423342e-03, -4.23339754e-03,  3.27188115e-05])"
            ]
          },
          "metadata": {},
          "execution_count": 20
        }
      ]
    },
    {
      "cell_type": "code",
      "source": [
        "reg_complete.intercept_"
      ],
      "metadata": {
        "colab": {
          "base_uri": "https://localhost:8080/"
        },
        "id": "G_dpuV_HVxEf",
        "outputId": "1cf78ad3-3f65-41c4-bae8-fd5b9fc8b576"
      },
      "execution_count": null,
      "outputs": [
        {
          "output_type": "execute_result",
          "data": {
            "text/plain": [
              "2.001746944988426"
            ]
          },
          "metadata": {},
          "execution_count": 21
        }
      ]
    },
    {
      "cell_type": "markdown",
      "source": [
        "Nous allons désormais utiliser les différents des trois premiers modèles pour prédire le prix d'un panier étudiant et voir si notre modèle est suffisamment entraîné.\n",
        "En prenant les données de janvier 2020, on a un panier étudiant à 102,98€ (pour calculer on a utilisé les prix des différents produits la dernière fois qu'ils étaient disponibles).\n",
        "\n",
        "\n",
        "IPP=107,32\n",
        "\n",
        "IPC=102,7.\n",
        "\n",
        "Comme les données sur les prix des différents produits, il nous est difficile de trouver des données réelles sur la production qui sont toutes renseignées sur un même mois. On observerait néanmoins le même type de résultats que pour les prédictions avec les modèles indices avec cette fois-ci encore plus de précision.\n"
      ],
      "metadata": {
        "id": "ZMNQypmJYO25"
      }
    },
    {
      "cell_type": "code",
      "source": [
        "reg_IPC.predict([[102.7]]) #cette méthode nous permet donc de prédire le prix de notre panier"
      ],
      "metadata": {
        "colab": {
          "base_uri": "https://localhost:8080/"
        },
        "id": "OqxwUEz5eAT1",
        "outputId": "b99e71ad-6bb7-4a45-e1de-1f09ec581f7c"
      },
      "execution_count": null,
      "outputs": [
        {
          "output_type": "stream",
          "name": "stderr",
          "text": [
            "/usr/local/lib/python3.8/dist-packages/sklearn/base.py:450: UserWarning:\n",
            "\n",
            "X does not have valid feature names, but LinearRegression was fitted with feature names\n",
            "\n"
          ]
        },
        {
          "output_type": "execute_result",
          "data": {
            "text/plain": [
              "array([104.01908458])"
            ]
          },
          "metadata": {},
          "execution_count": 22
        }
      ]
    },
    {
      "cell_type": "code",
      "source": [
        "reg_IPP.predict([[107.32]])"
      ],
      "metadata": {
        "colab": {
          "base_uri": "https://localhost:8080/"
        },
        "id": "AikjmyDBezP6",
        "outputId": "86bbd28b-df3d-4fad-bb9b-b3637f6e0e02"
      },
      "execution_count": null,
      "outputs": [
        {
          "output_type": "stream",
          "name": "stderr",
          "text": [
            "/usr/local/lib/python3.8/dist-packages/sklearn/base.py:450: UserWarning:\n",
            "\n",
            "X does not have valid feature names, but LinearRegression was fitted with feature names\n",
            "\n"
          ]
        },
        {
          "output_type": "execute_result",
          "data": {
            "text/plain": [
              "array([107.15102647])"
            ]
          },
          "metadata": {},
          "execution_count": 23
        }
      ]
    },
    {
      "cell_type": "code",
      "source": [
        "reg_indices.predict([[107.32,102.7]])"
      ],
      "metadata": {
        "colab": {
          "base_uri": "https://localhost:8080/"
        },
        "id": "ki4hOOpffEYE",
        "outputId": "e57ccbee-0a0c-42b7-f7e0-5063796b7c1f"
      },
      "execution_count": 31,
      "outputs": [
        {
          "output_type": "stream",
          "name": "stderr",
          "text": [
            "/usr/local/lib/python3.8/dist-packages/sklearn/base.py:450: UserWarning: X does not have valid feature names, but LinearRegression was fitted with feature names\n",
            "  warnings.warn(\n"
          ]
        },
        {
          "output_type": "execute_result",
          "data": {
            "text/plain": [
              "array([106.13796751])"
            ]
          },
          "metadata": {},
          "execution_count": 31
        }
      ]
    },
    {
      "cell_type": "markdown",
      "source": [
        "On voit donc que le modèle avec les indices est assez proche de la réalité. Si les valeurs obtenues sont supérieures à celle du panier étudiant réel c'est parce que ce panier étudiant ne date pas réellement de janvier 2020 comme certaines de ses composantes ont eu leur prix extraits de périodes antérieures et que ces prix-là ont logiquement augmenté dans la même mesure que nos indices. Ainsi, si nous avions testé notre modèle avec des données exactes nous aurions obtenu des résultats quasi égaux à ceux observés en théorie."
      ],
      "metadata": {
        "id": "vRhSycAsfwac"
      }
    },
    {
      "cell_type": "markdown",
      "source": [
        "Quant aux conclusions que l'on peut tirer de notre modèle, on voit que la relation linéaire que l'on avait prévisualisé s'est vérifiée pour ce qui est des indices. Il faut désormais garder à l'esprit que ce modèle suppose une hypothèse très forte qui est l'indépendance des différentes variables explicatives qui peut ne pas être la réalité dans notre cas. On aurait pu utiliser la méthode des random forest pour pallier ce problème. Il n'en reste pas moins que l'entraînement de notre modèle a été plutôt fructueuse que l'inverse. \n",
        "\n",
        "Le modèle des random forest est une des pistes d'amélioration pour notre rendu."
      ],
      "metadata": {
        "id": "Ysqp_hxU4W12"
      }
    }
  ]
}